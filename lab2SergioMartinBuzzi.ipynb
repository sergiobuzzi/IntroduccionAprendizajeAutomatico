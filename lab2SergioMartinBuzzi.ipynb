{
 "cells": [
  {
   "cell_type": "markdown",
   "metadata": {},
   "source": [
    "# Laboratorio 2: Armado de un esquema de aprendizaje automático\n",
    "\n",
    "En el laboratorio final se espera que puedan poner en práctica los conocimientos adquiridos en el curso, trabajando con un conjunto de datos de clasificación.\n",
    "\n",
    "El objetivo es que se introduzcan en el desarrollo de un esquema para hacer tareas de aprendizaje automático: selección de un modelo, ajuste de hiperparámetros y evaluación.\n",
    "\n",
    "El conjunto de datos a utilizar está en `./data/loan_data.csv`. Si abren el archivo verán que al principio (las líneas que empiezan con `#`) describen el conjunto de datos y sus atributos (incluyendo el atributo de etiqueta o clase).\n",
    "\n",
    "Se espera que hagan uso de las herramientas vistas en el curso. Se espera que hagan uso especialmente de las herramientas brindadas por `scikit-learn`."
   ]
  },
  {
   "cell_type": "code",
   "execution_count": 30,
   "metadata": {},
   "outputs": [],
   "source": [
    "import numpy as np\n",
    "import pandas as pd\n",
    "import matplotlib.pyplot as plt\n",
    "\n",
    "# TODO: Agregar las librerías que hagan falta\n",
    "from sklearn.model_selection import train_test_split\n",
    "from sklearn.linear_model import SGDClassifier\n",
    "from sklearn.tree import DecisionTreeClassifier\n",
    "from sklearn.metrics import accuracy_score, classification_report, confusion_matrix\n",
    "from sklearn.model_selection import GridSearchCV, train_test_split\n",
    "from ml.visualization import plot_confusion_matrix, plot_learning_curve\n",
    "\n",
    "np.random.seed(0)  # Para mayor determinismo\n",
    "\n",
    "%matplotlib inline"
   ]
  },
  {
   "cell_type": "markdown",
   "metadata": {},
   "source": [
    "## Carga de datos y división en entrenamiento y evaluación\n",
    "\n",
    "La celda siguiente se encarga de la carga de datos (haciendo uso de pandas). Estos serán los que se trabajarán en el resto del laboratorio."
   ]
  },
  {
   "cell_type": "code",
   "execution_count": 2,
   "metadata": {},
   "outputs": [],
   "source": [
    "dataset = pd.read_csv(\"./data/loan_data.csv\", comment=\"#\")\n",
    "\n",
    "# División entre instancias y etiquetas\n",
    "X, y = dataset.iloc[:, 1:], dataset.TARGET\n",
    "\n",
    "# división entre entrenamiento y evaluación\n",
    "X_train, X_test, y_train, y_test = train_test_split(X, y, test_size=0.2, random_state=0)"
   ]
  },
  {
   "cell_type": "code",
   "execution_count": 19,
   "metadata": {
    "scrolled": false
   },
   "outputs": [
    {
     "name": "stdout",
     "output_type": "stream",
     "text": [
      "<class 'pandas.core.series.Series'>\n"
     ]
    }
   ],
   "source": [
    "print(type(dataset[\"TARGET\"]))"
   ]
  },
  {
   "cell_type": "code",
   "execution_count": 3,
   "metadata": {},
   "outputs": [
    {
     "data": {
      "text/html": [
       "<div>\n",
       "<style scoped>\n",
       "    .dataframe tbody tr th:only-of-type {\n",
       "        vertical-align: middle;\n",
       "    }\n",
       "\n",
       "    .dataframe tbody tr th {\n",
       "        vertical-align: top;\n",
       "    }\n",
       "\n",
       "    .dataframe thead th {\n",
       "        text-align: right;\n",
       "    }\n",
       "</style>\n",
       "<table border=\"1\" class=\"dataframe\">\n",
       "  <thead>\n",
       "    <tr style=\"text-align: right;\">\n",
       "      <th></th>\n",
       "      <th>LOAN</th>\n",
       "      <th>MORTDUE</th>\n",
       "      <th>VALUE</th>\n",
       "      <th>YOJ</th>\n",
       "      <th>DEROG</th>\n",
       "      <th>DELINQ</th>\n",
       "      <th>CLAGE</th>\n",
       "      <th>NINQ</th>\n",
       "      <th>CLNO</th>\n",
       "      <th>DEBTINC</th>\n",
       "    </tr>\n",
       "  </thead>\n",
       "  <tbody>\n",
       "    <tr>\n",
       "      <th>count</th>\n",
       "      <td>1483.000000</td>\n",
       "      <td>1483.000000</td>\n",
       "      <td>1483.000000</td>\n",
       "      <td>1483.000000</td>\n",
       "      <td>1483.000000</td>\n",
       "      <td>1483.000000</td>\n",
       "      <td>1483.000000</td>\n",
       "      <td>1483.000000</td>\n",
       "      <td>1483.000000</td>\n",
       "      <td>1483.000000</td>\n",
       "    </tr>\n",
       "    <tr>\n",
       "      <th>mean</th>\n",
       "      <td>19019.487525</td>\n",
       "      <td>76396.345920</td>\n",
       "      <td>107329.562374</td>\n",
       "      <td>8.948753</td>\n",
       "      <td>0.186109</td>\n",
       "      <td>0.326365</td>\n",
       "      <td>179.558267</td>\n",
       "      <td>1.140931</td>\n",
       "      <td>21.859069</td>\n",
       "      <td>34.538331</td>\n",
       "    </tr>\n",
       "    <tr>\n",
       "      <th>std</th>\n",
       "      <td>10755.943240</td>\n",
       "      <td>45995.563918</td>\n",
       "      <td>55261.111710</td>\n",
       "      <td>7.577317</td>\n",
       "      <td>0.696353</td>\n",
       "      <td>0.925001</td>\n",
       "      <td>85.433422</td>\n",
       "      <td>1.683761</td>\n",
       "      <td>9.452400</td>\n",
       "      <td>9.566838</td>\n",
       "    </tr>\n",
       "    <tr>\n",
       "      <th>min</th>\n",
       "      <td>1700.000000</td>\n",
       "      <td>5627.000000</td>\n",
       "      <td>21144.000000</td>\n",
       "      <td>0.000000</td>\n",
       "      <td>0.000000</td>\n",
       "      <td>0.000000</td>\n",
       "      <td>0.486711</td>\n",
       "      <td>0.000000</td>\n",
       "      <td>0.000000</td>\n",
       "      <td>0.838118</td>\n",
       "    </tr>\n",
       "    <tr>\n",
       "      <th>25%</th>\n",
       "      <td>12050.000000</td>\n",
       "      <td>48717.500000</td>\n",
       "      <td>71156.000000</td>\n",
       "      <td>3.000000</td>\n",
       "      <td>0.000000</td>\n",
       "      <td>0.000000</td>\n",
       "      <td>116.439339</td>\n",
       "      <td>0.000000</td>\n",
       "      <td>16.000000</td>\n",
       "      <td>29.293916</td>\n",
       "    </tr>\n",
       "    <tr>\n",
       "      <th>50%</th>\n",
       "      <td>17000.000000</td>\n",
       "      <td>67389.000000</td>\n",
       "      <td>94504.000000</td>\n",
       "      <td>7.000000</td>\n",
       "      <td>0.000000</td>\n",
       "      <td>0.000000</td>\n",
       "      <td>174.506408</td>\n",
       "      <td>1.000000</td>\n",
       "      <td>21.000000</td>\n",
       "      <td>35.302774</td>\n",
       "    </tr>\n",
       "    <tr>\n",
       "      <th>75%</th>\n",
       "      <td>23700.000000</td>\n",
       "      <td>94648.500000</td>\n",
       "      <td>124155.500000</td>\n",
       "      <td>13.000000</td>\n",
       "      <td>0.000000</td>\n",
       "      <td>0.000000</td>\n",
       "      <td>233.763633</td>\n",
       "      <td>2.000000</td>\n",
       "      <td>27.000000</td>\n",
       "      <td>39.200625</td>\n",
       "    </tr>\n",
       "    <tr>\n",
       "      <th>max</th>\n",
       "      <td>89800.000000</td>\n",
       "      <td>399412.000000</td>\n",
       "      <td>512650.000000</td>\n",
       "      <td>41.000000</td>\n",
       "      <td>10.000000</td>\n",
       "      <td>10.000000</td>\n",
       "      <td>1168.233561</td>\n",
       "      <td>11.000000</td>\n",
       "      <td>65.000000</td>\n",
       "      <td>144.189001</td>\n",
       "    </tr>\n",
       "  </tbody>\n",
       "</table>\n",
       "</div>"
      ],
      "text/plain": [
       "               LOAN        MORTDUE          VALUE          YOJ        DEROG  \\\n",
       "count   1483.000000    1483.000000    1483.000000  1483.000000  1483.000000   \n",
       "mean   19019.487525   76396.345920  107329.562374     8.948753     0.186109   \n",
       "std    10755.943240   45995.563918   55261.111710     7.577317     0.696353   \n",
       "min     1700.000000    5627.000000   21144.000000     0.000000     0.000000   \n",
       "25%    12050.000000   48717.500000   71156.000000     3.000000     0.000000   \n",
       "50%    17000.000000   67389.000000   94504.000000     7.000000     0.000000   \n",
       "75%    23700.000000   94648.500000  124155.500000    13.000000     0.000000   \n",
       "max    89800.000000  399412.000000  512650.000000    41.000000    10.000000   \n",
       "\n",
       "            DELINQ        CLAGE         NINQ         CLNO      DEBTINC  \n",
       "count  1483.000000  1483.000000  1483.000000  1483.000000  1483.000000  \n",
       "mean      0.326365   179.558267     1.140931    21.859069    34.538331  \n",
       "std       0.925001    85.433422     1.683761     9.452400     9.566838  \n",
       "min       0.000000     0.486711     0.000000     0.000000     0.838118  \n",
       "25%       0.000000   116.439339     0.000000    16.000000    29.293916  \n",
       "50%       0.000000   174.506408     1.000000    21.000000    35.302774  \n",
       "75%       0.000000   233.763633     2.000000    27.000000    39.200625  \n",
       "max      10.000000  1168.233561    11.000000    65.000000   144.189001  "
      ]
     },
     "execution_count": 3,
     "metadata": {},
     "output_type": "execute_result"
    }
   ],
   "source": [
    "X_train.describe()"
   ]
  },
  {
   "cell_type": "code",
   "execution_count": 5,
   "metadata": {},
   "outputs": [
    {
     "data": {
      "text/plain": [
       "count    1483.000000\n",
       "mean        0.169252\n",
       "std         0.375100\n",
       "min         0.000000\n",
       "25%         0.000000\n",
       "50%         0.000000\n",
       "75%         0.000000\n",
       "max         1.000000\n",
       "Name: TARGET, dtype: float64"
      ]
     },
     "execution_count": 5,
     "metadata": {},
     "output_type": "execute_result"
    }
   ],
   "source": [
    "y_train.describe()"
   ]
  },
  {
   "cell_type": "markdown",
   "metadata": {},
   "source": [
    "\n",
    "Documentación:\n",
    "\n",
    "- https://scikit-learn.org/stable/modules/generated/sklearn.model_selection.train_test_split.html"
   ]
  },
  {
   "cell_type": "markdown",
   "metadata": {},
   "source": [
    "## Ejercicio 1: Descripción de los Datos y la Tarea\n",
    "\n",
    "Responder las siguientes preguntas:\n",
    "\n",
    "1. ¿De qué se trata el conjunto de datos?\n",
    "\n",
    "El conjunto de datos se refiere a 1189 préstamos, para los cuales se registraron 12 variables que los caracterizan, 11 de las cuales son predictoras y la restante es la variable a predecir.\n",
    "\n",
    "2. ¿Cuál es la variable objetivo que hay que predecir? ¿Qué significado tiene?\n",
    "\n",
    "La variable objetivo es BAD. La misma es una variable dicotómica que asume el valor 1 si el préstamo no es devuelto y 0 en caso contrario.\n",
    "\n",
    "3. ¿Qué información (atributos) hay disponible para hacer la predicción?\n",
    "\n",
    "Las variables explicativas sin traducir son: \n",
    "\n",
    "* LOAN: Amount of the loan request\n",
    "* MORTDUE: Amount due on existing mortgage\n",
    "* VALUE: Value of current property\n",
    "* REASON: DebtCon = debt consolidation; HomeImp = home improvement\n",
    "* JOB: Occupational categories\n",
    "* YOJ: Years at present job\n",
    "* DEROG: Number of major derogatory reports\n",
    "* DELINQ: Number of delinquent credit lines\n",
    "* CLAGE: Age of oldest credit line in months\n",
    "* NINQ: Number of recent credit inquiries\n",
    "* CLNO: Number of credit lines\n",
    "\n",
    "4. ¿Qué atributos imagina ud. que son los más determinantes para la predicción?\n",
    "\n",
    "La variable DEROG puede ser una buena clasificadora porque los reportes negativos entiendo que indican problemas en la capacidad de repago. Por el mismo motivo, probablemente sean importantes las variables REASON (consolidadcion de deuda debería implicar menor probabilidad de repago), JOB (ciertos trabajos pueden implicar mayor estabilidad de los ingresos), YOJ(mayor antiguedad implicaría mayor estabilidad de ingresos). \n",
    "En el caso de las variables DELINQ, CLAGE, NINQ, CLNO, MORTDUE, LOAN, VALUE, no es del todo claro el posible comportamiento, pero eso no implica que no puedan tener poder discriminatorio.\n",
    "\n",
    "**No hace falta escribir código para responder estas preguntas.**"
   ]
  },
  {
   "cell_type": "markdown",
   "metadata": {},
   "source": [
    "## Ejercicio 2: Predicción con Modelos Lineales\n",
    "\n",
    "En este ejercicio se entrenarán modelos lineales de clasificación para predecir la variable objetivo.\n",
    "\n",
    "Para ello, deberán utilizar la clase SGDClassifier de scikit-learn.\n",
    "\n",
    "Documentación:\n",
    "- https://scikit-learn.org/stable/modules/sgd.html\n",
    "- https://scikit-learn.org/stable/modules/generated/sklearn.linear_model.SGDClassifier.html\n"
   ]
  },
  {
   "cell_type": "markdown",
   "metadata": {},
   "source": [
    "### Ejercicio 2.1: SGDClassifier con hiperparámetros por defecto\n",
    "\n",
    "Entrenar y evaluar el clasificador SGDClassifier usando los valores por omisión de scikit-learn para todos los parámetros. Únicamente **fijar la semilla aleatoria** para hacer repetible el experimento.\n",
    "\n",
    "Evaluar sobre el conjunto de **entrenamiento** y sobre el conjunto de **evaluación**, reportando:\n",
    "- Accuracy\n",
    "- Precision\n",
    "- Recall\n",
    "- F1\n",
    "- matriz de confusión"
   ]
  },
  {
   "cell_type": "code",
   "execution_count": 23,
   "metadata": {},
   "outputs": [
    {
     "name": "stderr",
     "output_type": "stream",
     "text": [
      "C:\\Anaconda3\\lib\\site-packages\\sklearn\\linear_model\\stochastic_gradient.py:166: FutureWarning: max_iter and tol parameters have been added in SGDClassifier in 0.19. If both are left unset, they default to max_iter=5 and tol=None. If tol is not None, max_iter defaults to max_iter=1000. From 0.21, default max_iter will be 1000, and default tol will be 1e-3.\n",
      "  FutureWarning)\n",
      "C:\\Anaconda3\\lib\\site-packages\\sklearn\\metrics\\classification.py:1143: UndefinedMetricWarning: Precision and F-score are ill-defined and being set to 0.0 in labels with no predicted samples.\n",
      "  'precision', 'predicted', average, warn_for)\n"
     ]
    },
    {
     "name": "stdout",
     "output_type": "stream",
     "text": [
      "              precision    recall  f1-score   support\n",
      "\n",
      "           0       0.83      1.00      0.91      1232\n",
      "           1       0.00      0.00      0.00       251\n",
      "\n",
      "   micro avg       0.83      0.83      0.83      1483\n",
      "   macro avg       0.42      0.50      0.45      1483\n",
      "weighted avg       0.69      0.83      0.75      1483\n",
      "\n",
      "\n"
     ]
    },
    {
     "data": {
      "image/png": "[encoded data removed]",
      "text/plain": [
       "<Figure size 432x288 with 2 Axes>"
      ]
     },
     "metadata": {
      "needs_background": "light"
     },
     "output_type": "display_data"
    }
   ],
   "source": [
    "# Desempeño en conjunto de entrenamiento\n",
    "model = SGDClassifier()\n",
    "model.fit(X_train, y_train)\n",
    "y_true, y_pred = y_train, model.predict(X_train)\n",
    "print(classification_report(y_true, y_pred), end=\"\\n\\n\")\n",
    "plot_confusion_matrix(confusion_matrix(y_true, y_pred), \n",
    "                      classes=['class_0', 'class_1'], title=\"Matriz de confusión %s\")"
   ]
  },
  {
   "cell_type": "code",
   "execution_count": 24,
   "metadata": {},
   "outputs": [
    {
     "name": "stderr",
     "output_type": "stream",
     "text": [
      "C:\\Anaconda3\\lib\\site-packages\\sklearn\\linear_model\\stochastic_gradient.py:166: FutureWarning: max_iter and tol parameters have been added in SGDClassifier in 0.19. If both are left unset, they default to max_iter=5 and tol=None. If tol is not None, max_iter defaults to max_iter=1000. From 0.21, default max_iter will be 1000, and default tol will be 1e-3.\n",
      "  FutureWarning)\n"
     ]
    },
    {
     "name": "stdout",
     "output_type": "stream",
     "text": [
      "              precision    recall  f1-score   support\n",
      "\n",
      "           0       0.85      1.00      0.91       313\n",
      "           1       0.50      0.02      0.03        58\n",
      "\n",
      "   micro avg       0.84      0.84      0.84       371\n",
      "   macro avg       0.67      0.51      0.47       371\n",
      "weighted avg       0.79      0.84      0.78       371\n",
      "\n",
      "\n"
     ]
    },
    {
     "data": {
      "image/png": "[encoded data removed]",
      "text/plain": [
       "<Figure size 432x288 with 2 Axes>"
      ]
     },
     "metadata": {
      "needs_background": "light"
     },
     "output_type": "display_data"
    }
   ],
   "source": [
    "# Desempeño en conjunto de test\n",
    "model = SGDClassifier()\n",
    "model.fit(X_train, y_train)\n",
    "y_true, y_pred = y_test, model.predict(X_test)\n",
    "print(classification_report(y_true, y_pred), end=\"\\n\\n\")\n",
    "plot_confusion_matrix(confusion_matrix(y_true, y_pred), \n",
    "                      classes=['class_0', 'class_1'], title=\"Matriz de confusión %s\")"
   ]
  },
  {
   "cell_type": "markdown",
   "metadata": {},
   "source": [
    "### Ejercicio 2.2: Ajuste de Hiperparámetros\n",
    "\n",
    "Seleccionar valores para los hiperparámetros principales del SGDClassifier. Como mínimo, probar diferentes funciones de loss, tasas de entrenamiento y tasas de regularización.\n",
    "\n",
    "Para ello, usar grid-search y 5-fold cross-validation sobre el conjunto de entrenamiento para explorar muchas combinaciones posibles de valores.\n",
    "\n",
    "Reportar accuracy promedio y varianza para todas las configuraciones.\n",
    "\n",
    "Para la mejor configuración encontrada, evaluar sobre el conjunto de **entrenamiento** y sobre el conjunto de **evaluación**, reportando:\n",
    "- Accuracy\n",
    "- Precision\n",
    "- Recall\n",
    "- F1\n",
    "- matriz de confusión\n",
    "\n",
    "Documentación:\n",
    "- https://scikit-learn.org/stable/modules/grid_search.html\n",
    "- https://scikit-learn.org/stable/modules/generated/sklearn.model_selection.GridSearchCV.html"
   ]
  },
  {
   "cell_type": "code",
   "execution_count": 27,
   "metadata": {},
   "outputs": [
    {
     "name": "stderr",
     "output_type": "stream",
     "text": [
      "C:\\Anaconda3\\lib\\site-packages\\sklearn\\model_selection\\_search.py:841: DeprecationWarning: The default of the `iid` parameter will change from True to False in version 0.22 and will be removed in 0.24. This will change numeric results when test-set sizes are unequal.\n",
      "  DeprecationWarning)\n",
      "C:\\Anaconda3\\lib\\site-packages\\sklearn\\metrics\\classification.py:1143: UndefinedMetricWarning: Precision and F-score are ill-defined and being set to 0.0 in labels with no predicted samples.\n",
      "  'precision', 'predicted', average, warn_for)\n"
     ]
    },
    {
     "name": "stdout",
     "output_type": "stream",
     "text": [
      "# Exploración de hiperparámetros para función de coste \"hinge\"\n",
      "\n",
      "Mejor conjunto de parámetros:\n",
      "{'alpha': 0.1, 'eta0': 0.1, 'learning_rate': 'constant'}\n",
      "\n",
      "Puntajes de la grilla:\n",
      "\n",
      "Exactitud: 0.829 (+/-0.000) para los parámetros {'alpha': 0.1, 'eta0': 0.1, 'learning_rate': 'constant'}\n",
      "Exactitud: 0.703 (+/-0.063) para los parámetros {'alpha': 0.1, 'eta0': 0.01, 'learning_rate': 'constant'}\n",
      "Exactitud: 0.732 (+/-0.016) para los parámetros {'alpha': 0.1, 'eta0': 0.001, 'learning_rate': 'constant'}\n",
      "Exactitud: 0.461 (+/-0.091) para los parámetros {'alpha': 0.01, 'eta0': 0.1, 'learning_rate': 'constant'}\n",
      "Exactitud: 0.516 (+/-0.086) para los parámetros {'alpha': 0.01, 'eta0': 0.01, 'learning_rate': 'constant'}\n",
      "Exactitud: 0.570 (+/-0.102) para los parámetros {'alpha': 0.01, 'eta0': 0.001, 'learning_rate': 'constant'}\n",
      "Exactitud: 0.806 (+/-0.002) para los parámetros {'alpha': 0.001, 'eta0': 0.1, 'learning_rate': 'constant'}\n",
      "Exactitud: 0.568 (+/-0.104) para los parámetros {'alpha': 0.001, 'eta0': 0.01, 'learning_rate': 'constant'}\n",
      "Exactitud: 0.551 (+/-0.095) para los parámetros {'alpha': 0.001, 'eta0': 0.001, 'learning_rate': 'constant'}\n",
      "\n",
      "Reporte de clasificación para el mejor clasificador (sobre conjunto de evaluación):\n",
      "\n",
      "              precision    recall  f1-score   support\n",
      "\n",
      "           0       0.84      1.00      0.92       313\n",
      "           1       0.00      0.00      0.00        58\n",
      "\n",
      "   micro avg       0.84      0.84      0.84       371\n",
      "   macro avg       0.42      0.50      0.46       371\n",
      "weighted avg       0.71      0.84      0.77       371\n",
      "\n",
      "\n",
      "================================================\n",
      "\n"
     ]
    },
    {
     "name": "stderr",
     "output_type": "stream",
     "text": [
      "C:\\Anaconda3\\lib\\site-packages\\sklearn\\model_selection\\_search.py:841: DeprecationWarning: The default of the `iid` parameter will change from True to False in version 0.22 and will be removed in 0.24. This will change numeric results when test-set sizes are unequal.\n",
      "  DeprecationWarning)\n",
      "C:\\Anaconda3\\lib\\site-packages\\sklearn\\metrics\\classification.py:1143: UndefinedMetricWarning: Precision and F-score are ill-defined and being set to 0.0 in labels with no predicted samples.\n",
      "  'precision', 'predicted', average, warn_for)\n"
     ]
    },
    {
     "name": "stdout",
     "output_type": "stream",
     "text": [
      "# Exploración de hiperparámetros para función de coste \"log\"\n",
      "\n",
      "Mejor conjunto de parámetros:\n",
      "{'alpha': 0.001, 'eta0': 0.01, 'learning_rate': 'constant'}\n",
      "\n",
      "Puntajes de la grilla:\n",
      "\n",
      "Exactitud: 0.741 (+/-0.031) para los parámetros {'alpha': 0.1, 'eta0': 0.1, 'learning_rate': 'constant'}\n",
      "Exactitud: 0.700 (+/-0.069) para los parámetros {'alpha': 0.1, 'eta0': 0.01, 'learning_rate': 'constant'}\n",
      "Exactitud: 0.699 (+/-0.068) para los parámetros {'alpha': 0.1, 'eta0': 0.001, 'learning_rate': 'constant'}\n",
      "Exactitud: 0.755 (+/-0.021) para los parámetros {'alpha': 0.01, 'eta0': 0.1, 'learning_rate': 'constant'}\n",
      "Exactitud: 0.819 (+/-0.000) para los parámetros {'alpha': 0.01, 'eta0': 0.01, 'learning_rate': 'constant'}\n",
      "Exactitud: 0.717 (+/-0.051) para los parámetros {'alpha': 0.01, 'eta0': 0.001, 'learning_rate': 'constant'}\n",
      "Exactitud: 0.699 (+/-0.070) para los parámetros {'alpha': 0.001, 'eta0': 0.1, 'learning_rate': 'constant'}\n",
      "Exactitud: 0.819 (+/-0.001) para los parámetros {'alpha': 0.001, 'eta0': 0.01, 'learning_rate': 'constant'}\n",
      "Exactitud: 0.550 (+/-0.094) para los parámetros {'alpha': 0.001, 'eta0': 0.001, 'learning_rate': 'constant'}\n",
      "\n",
      "Reporte de clasificación para el mejor clasificador (sobre conjunto de evaluación):\n",
      "\n",
      "              precision    recall  f1-score   support\n",
      "\n",
      "           0       0.84      1.00      0.92       313\n",
      "           1       0.00      0.00      0.00        58\n",
      "\n",
      "   micro avg       0.84      0.84      0.84       371\n",
      "   macro avg       0.42      0.50      0.46       371\n",
      "weighted avg       0.71      0.84      0.77       371\n",
      "\n",
      "\n",
      "================================================\n",
      "\n"
     ]
    },
    {
     "name": "stderr",
     "output_type": "stream",
     "text": [
      "C:\\Anaconda3\\lib\\site-packages\\sklearn\\model_selection\\_search.py:841: DeprecationWarning: The default of the `iid` parameter will change from True to False in version 0.22 and will be removed in 0.24. This will change numeric results when test-set sizes are unequal.\n",
      "  DeprecationWarning)\n",
      "C:\\Anaconda3\\lib\\site-packages\\sklearn\\metrics\\classification.py:1143: UndefinedMetricWarning: Precision and F-score are ill-defined and being set to 0.0 in labels with no predicted samples.\n",
      "  'precision', 'predicted', average, warn_for)\n"
     ]
    },
    {
     "name": "stdout",
     "output_type": "stream",
     "text": [
      "# Exploración de hiperparámetros para función de coste \"perceptron\"\n",
      "\n",
      "Mejor conjunto de parámetros:\n",
      "{'alpha': 0.001, 'eta0': 0.1, 'learning_rate': 'constant'}\n",
      "\n",
      "Puntajes de la grilla:\n",
      "\n",
      "Exactitud: 0.699 (+/-0.069) para los parámetros {'alpha': 0.1, 'eta0': 0.1, 'learning_rate': 'constant'}\n",
      "Exactitud: 0.701 (+/-0.068) para los parámetros {'alpha': 0.1, 'eta0': 0.01, 'learning_rate': 'constant'}\n",
      "Exactitud: 0.698 (+/-0.070) para los parámetros {'alpha': 0.1, 'eta0': 0.001, 'learning_rate': 'constant'}\n",
      "Exactitud: 0.808 (+/-0.002) para los parámetros {'alpha': 0.01, 'eta0': 0.1, 'learning_rate': 'constant'}\n",
      "Exactitud: 0.701 (+/-0.067) para los parámetros {'alpha': 0.01, 'eta0': 0.01, 'learning_rate': 'constant'}\n",
      "Exactitud: 0.690 (+/-0.068) para los parámetros {'alpha': 0.01, 'eta0': 0.001, 'learning_rate': 'constant'}\n",
      "Exactitud: 0.831 (+/-0.000) para los parámetros {'alpha': 0.001, 'eta0': 0.1, 'learning_rate': 'constant'}\n",
      "Exactitud: 0.703 (+/-0.066) para los parámetros {'alpha': 0.001, 'eta0': 0.01, 'learning_rate': 'constant'}\n",
      "Exactitud: 0.831 (+/-0.000) para los parámetros {'alpha': 0.001, 'eta0': 0.001, 'learning_rate': 'constant'}\n",
      "\n",
      "Reporte de clasificación para el mejor clasificador (sobre conjunto de evaluación):\n",
      "\n",
      "              precision    recall  f1-score   support\n",
      "\n",
      "           0       0.00      0.00      0.00       313\n",
      "           1       0.16      1.00      0.27        58\n",
      "\n",
      "   micro avg       0.16      0.16      0.16       371\n",
      "   macro avg       0.08      0.50      0.14       371\n",
      "weighted avg       0.02      0.16      0.04       371\n",
      "\n",
      "\n",
      "================================================\n",
      "\n"
     ]
    },
    {
     "data": {
      "image/png": "[encoded data removed]",
      "text/plain": [
       "<Figure size 1120x320 with 6 Axes>"
      ]
     },
     "metadata": {},
     "output_type": "display_data"
    }
   ],
   "source": [
    "plt.figure(figsize=(14, 4), dpi= 80, facecolor='w', edgecolor='k')\n",
    "\n",
    "for idx, loss in enumerate(('hinge', 'log', 'perceptron'), start=1):\n",
    "    exploring_params = {\n",
    "        'learning_rate': ['constant'],\n",
    "        'eta0': [0.1, 0.01, 0.001],  # Tasa de entrenamiento\n",
    "        'alpha': [0.1, 0.01, 0.001]  # Tasa de regularización\n",
    "    }\n",
    "    m = SGDClassifier(loss=loss, tol=1e-3)\n",
    "    model = GridSearchCV(m, exploring_params, cv=5, scoring='accuracy')\n",
    "    model.fit(X_train, y_train)\n",
    "    \n",
    "    print(\"# Exploración de hiperparámetros para función de coste \\\"%s\\\"\" % loss, end=\"\\n\\n\")\n",
    "    \n",
    "    print(\"Mejor conjunto de parámetros:\")\n",
    "    print(model.best_params_, end=\"\\n\\n\")\n",
    "\n",
    "    print(\"Puntajes de la grilla:\", end=\"\\n\\n\")\n",
    "    means = model.cv_results_['mean_test_score']\n",
    "    stds = model.cv_results_['std_test_score']\n",
    "    for mean, std, params in zip(means, stds, model.cv_results_['params']):\n",
    "        print(\"Exactitud: %0.3f (+/-%0.03f) para los parámetros %r\" % (mean, std ** 2, params))\n",
    "    print()\n",
    "\n",
    "    print(\"Reporte de clasificación para el mejor clasificador (sobre conjunto de evaluación):\", end=\"\\n\\n\")\n",
    "    y_true, y_pred = y_test, model.predict(X_test)\n",
    "    print(classification_report(y_true, y_pred), end=\"\\n\\n\")\n",
    "    \n",
    "    print(\"================================================\", end=\"\\n\\n\")\n",
    "\n",
    "    plt.subplot(1, 3, idx)\n",
    "    plot_confusion_matrix(confusion_matrix(y_true, y_pred),\n",
    "                          classes=['class_0', 'class_1'], title=\"Matriz de confusión para %s\" % loss)"
   ]
  },
  {
   "cell_type": "markdown",
   "metadata": {},
   "source": [
    "## Ejercicio 3: Árbol de Decisión\n",
    "\n",
    "En este ejercicio se entrenarán árboles de decisión para predecir la variable objetivo.\n",
    "\n",
    "Para ello, deberán utilizar la clase DecisionTreeClassifier de scikit-learn.\n",
    "\n",
    "Documentación:\n",
    "- https://scikit-learn.org/stable/modules/tree.html\n",
    "  - https://scikit-learn.org/stable/modules/tree.html#tips-on-practical-use\n",
    "- https://scikit-learn.org/stable/modules/generated/sklearn.tree.DecisionTreeClassifier.html\n",
    "- https://scikit-learn.org/stable/auto_examples/tree/plot_unveil_tree_structure.html"
   ]
  },
  {
   "cell_type": "markdown",
   "metadata": {},
   "source": [
    "### Ejercicio 3.1: DecisionTreeClassifier con hiperparámetros por defecto\n",
    "\n",
    "Entrenar y evaluar el clasificador DecisionTreeClassifier usando los valores por omisión de scikit-learn para todos los parámetros. Únicamente **fijar la semilla aleatoria** para hacer repetible el experimento.\n",
    "\n",
    "Evaluar sobre el conjunto de **entrenamiento** y sobre el conjunto de **evaluación**, reportando:\n",
    "- Accuracy\n",
    "- Precision\n",
    "- Recall\n",
    "- F1\n",
    "- matriz de confusión\n"
   ]
  },
  {
   "cell_type": "code",
   "execution_count": 31,
   "metadata": {},
   "outputs": [
    {
     "name": "stdout",
     "output_type": "stream",
     "text": [
      "              precision    recall  f1-score   support\n",
      "\n",
      "           0       1.00      1.00      1.00      1232\n",
      "           1       1.00      1.00      1.00       251\n",
      "\n",
      "   micro avg       1.00      1.00      1.00      1483\n",
      "   macro avg       1.00      1.00      1.00      1483\n",
      "weighted avg       1.00      1.00      1.00      1483\n",
      "\n",
      "\n"
     ]
    },
    {
     "data": {
      "image/png": "[encoded data removed]",
      "text/plain": [
       "<Figure size 432x288 with 2 Axes>"
      ]
     },
     "metadata": {
      "needs_background": "light"
     },
     "output_type": "display_data"
    }
   ],
   "source": [
    "# Desempeño en conjunto de entrenamiento\n",
    "model = DecisionTreeClassifier()\n",
    "model.fit(X_train, y_train)\n",
    "y_true, y_pred = y_train, model.predict(X_train)\n",
    "print(classification_report(y_true, y_pred), end=\"\\n\\n\")\n",
    "plot_confusion_matrix(confusion_matrix(y_true, y_pred), \n",
    "                      classes=['class_0', 'class_1'], title=\"Matriz de confusión %s\")"
   ]
  },
  {
   "cell_type": "code",
   "execution_count": 32,
   "metadata": {},
   "outputs": [
    {
     "name": "stdout",
     "output_type": "stream",
     "text": [
      "              precision    recall  f1-score   support\n",
      "\n",
      "           0       0.93      0.93      0.93       313\n",
      "           1       0.64      0.64      0.64        58\n",
      "\n",
      "   micro avg       0.89      0.89      0.89       371\n",
      "   macro avg       0.79      0.79      0.79       371\n",
      "weighted avg       0.89      0.89      0.89       371\n",
      "\n",
      "\n"
     ]
    },
    {
     "data": {
      "image/png": "[encoded data removed]",
      "text/plain": [
       "<Figure size 432x288 with 2 Axes>"
      ]
     },
     "metadata": {
      "needs_background": "light"
     },
     "output_type": "display_data"
    }
   ],
   "source": [
    "# Desempeño en conjunto de test\n",
    "model = DecisionTreeClassifier()\n",
    "model.fit(X_train, y_train)\n",
    "y_true, y_pred = y_test, model.predict(X_test)\n",
    "print(classification_report(y_true, y_pred), end=\"\\n\\n\")\n",
    "plot_confusion_matrix(confusion_matrix(y_true, y_pred), \n",
    "                      classes=['class_0', 'class_1'], title=\"Matriz de confusión %s\")"
   ]
  },
  {
   "cell_type": "markdown",
   "metadata": {},
   "source": [
    "### Ejercicio 3.2: Ajuste de Hiperparámetros\n",
    "\n",
    "Seleccionar valores para los hiperparámetros principales del DecisionTreeClassifier. Como mínimo, probar diferentes criterios de partición (criterion), profundidad máxima del árbol (max_depth), y cantidad mínima de samples por hoja (min_samples_leaf).\n",
    "\n",
    "Para ello, usar grid-search y 5-fold cross-validation sobre el conjunto de entrenamiento para explorar muchas combinaciones posibles de valores.\n",
    "\n",
    "Reportar accuracy promedio y varianza para todas las configuraciones.\n",
    "\n",
    "Para la mejor configuración encontrada, evaluar sobre el conjunto de **entrenamiento** y sobre el conjunto de **evaluación**, reportando:\n",
    "- Accuracy\n",
    "- Precision\n",
    "- Recall\n",
    "- F1\n",
    "- matriz de confusión\n",
    "\n",
    "\n",
    "Documentación:\n",
    "- https://scikit-learn.org/stable/modules/grid_search.html\n",
    "- https://scikit-learn.org/stable/modules/generated/sklearn.model_selection.GridSearchCV.html"
   ]
  },
  {
   "cell_type": "code",
   "execution_count": null,
   "metadata": {},
   "outputs": [],
   "source": [
    "#DecisionTreeClassifier(criterion=’gini’, splitter=’best’, \n",
    "#                       max_depth=None, min_samples_split=2, \n",
    "#                       min_samples_leaf=1, min_weight_fraction_leaf=0.0, \n",
    "#                       max_features=None, random_state=None, max_leaf_nodes=None, \n",
    "#                       min_impurity_decrease=0.0, min_impurity_split=None, \n",
    "#                       class_weight=None, presort=False)\n",
    "# probar diferentes criterios de partición (criterion), \n",
    "#profundidad máxima del árbol (max_depth), \n",
    "#y cantidad mínima de samples por hoja (min_samples_leaf)."
   ]
  },
  {
   "cell_type": "code",
   "execution_count": 35,
   "metadata": {},
   "outputs": [
    {
     "name": "stdout",
     "output_type": "stream",
     "text": [
      "# Exploración de hiperparámetros para el criterio \"gini\"\n",
      "\n",
      "Mejor conjunto de parámetros:\n",
      "{'max_depth': 6, 'min_samples_leaf': 10}\n",
      "\n",
      "Puntajes de la grilla:\n",
      "\n",
      "Exactitud: 0.869 (+/-0.000) para los parámetros {'max_depth': 1, 'min_samples_leaf': 10}\n",
      "Exactitud: 0.869 (+/-0.000) para los parámetros {'max_depth': 1, 'min_samples_leaf': 20}\n",
      "Exactitud: 0.869 (+/-0.000) para los parámetros {'max_depth': 1, 'min_samples_leaf': 30}\n",
      "Exactitud: 0.869 (+/-0.000) para los parámetros {'max_depth': 1, 'min_samples_leaf': 40}\n",
      "Exactitud: 0.871 (+/-0.000) para los parámetros {'max_depth': 1, 'min_samples_leaf': 50}\n",
      "Exactitud: 0.873 (+/-0.000) para los parámetros {'max_depth': 2, 'min_samples_leaf': 10}\n",
      "Exactitud: 0.869 (+/-0.000) para los parámetros {'max_depth': 2, 'min_samples_leaf': 20}\n",
      "Exactitud: 0.869 (+/-0.000) para los parámetros {'max_depth': 2, 'min_samples_leaf': 30}\n",
      "Exactitud: 0.869 (+/-0.000) para los parámetros {'max_depth': 2, 'min_samples_leaf': 40}\n",
      "Exactitud: 0.871 (+/-0.000) para los parámetros {'max_depth': 2, 'min_samples_leaf': 50}\n",
      "Exactitud: 0.879 (+/-0.000) para los parámetros {'max_depth': 3, 'min_samples_leaf': 10}\n",
      "Exactitud: 0.871 (+/-0.000) para los parámetros {'max_depth': 3, 'min_samples_leaf': 20}\n",
      "Exactitud: 0.861 (+/-0.000) para los parámetros {'max_depth': 3, 'min_samples_leaf': 30}\n",
      "Exactitud: 0.869 (+/-0.000) para los parámetros {'max_depth': 3, 'min_samples_leaf': 40}\n",
      "Exactitud: 0.871 (+/-0.000) para los parámetros {'max_depth': 3, 'min_samples_leaf': 50}\n",
      "Exactitud: 0.879 (+/-0.000) para los parámetros {'max_depth': 4, 'min_samples_leaf': 10}\n",
      "Exactitud: 0.871 (+/-0.000) para los parámetros {'max_depth': 4, 'min_samples_leaf': 20}\n",
      "Exactitud: 0.858 (+/-0.000) para los parámetros {'max_depth': 4, 'min_samples_leaf': 30}\n",
      "Exactitud: 0.869 (+/-0.000) para los parámetros {'max_depth': 4, 'min_samples_leaf': 40}\n",
      "Exactitud: 0.871 (+/-0.000) para los parámetros {'max_depth': 4, 'min_samples_leaf': 50}\n",
      "Exactitud: 0.879 (+/-0.000) para los parámetros {'max_depth': 5, 'min_samples_leaf': 10}\n",
      "Exactitud: 0.869 (+/-0.000) para los parámetros {'max_depth': 5, 'min_samples_leaf': 20}\n",
      "Exactitud: 0.858 (+/-0.000) para los parámetros {'max_depth': 5, 'min_samples_leaf': 30}\n",
      "Exactitud: 0.869 (+/-0.000) para los parámetros {'max_depth': 5, 'min_samples_leaf': 40}\n",
      "Exactitud: 0.871 (+/-0.000) para los parámetros {'max_depth': 5, 'min_samples_leaf': 50}\n",
      "Exactitud: 0.883 (+/-0.000) para los parámetros {'max_depth': 6, 'min_samples_leaf': 10}\n",
      "Exactitud: 0.871 (+/-0.000) para los parámetros {'max_depth': 6, 'min_samples_leaf': 20}\n",
      "Exactitud: 0.858 (+/-0.000) para los parámetros {'max_depth': 6, 'min_samples_leaf': 30}\n",
      "Exactitud: 0.862 (+/-0.000) para los parámetros {'max_depth': 6, 'min_samples_leaf': 40}\n",
      "Exactitud: 0.871 (+/-0.000) para los parámetros {'max_depth': 6, 'min_samples_leaf': 50}\n",
      "Exactitud: 0.882 (+/-0.000) para los parámetros {'max_depth': 7, 'min_samples_leaf': 10}\n",
      "Exactitud: 0.871 (+/-0.000) para los parámetros {'max_depth': 7, 'min_samples_leaf': 20}\n",
      "Exactitud: 0.854 (+/-0.000) para los parámetros {'max_depth': 7, 'min_samples_leaf': 30}\n",
      "Exactitud: 0.862 (+/-0.000) para los parámetros {'max_depth': 7, 'min_samples_leaf': 40}\n",
      "Exactitud: 0.871 (+/-0.000) para los parámetros {'max_depth': 7, 'min_samples_leaf': 50}\n",
      "Exactitud: 0.879 (+/-0.000) para los parámetros {'max_depth': 8, 'min_samples_leaf': 10}\n",
      "Exactitud: 0.868 (+/-0.000) para los parámetros {'max_depth': 8, 'min_samples_leaf': 20}\n",
      "Exactitud: 0.852 (+/-0.000) para los parámetros {'max_depth': 8, 'min_samples_leaf': 30}\n",
      "Exactitud: 0.862 (+/-0.000) para los parámetros {'max_depth': 8, 'min_samples_leaf': 40}\n",
      "Exactitud: 0.871 (+/-0.000) para los parámetros {'max_depth': 8, 'min_samples_leaf': 50}\n",
      "Exactitud: 0.878 (+/-0.000) para los parámetros {'max_depth': 9, 'min_samples_leaf': 10}\n",
      "Exactitud: 0.868 (+/-0.000) para los parámetros {'max_depth': 9, 'min_samples_leaf': 20}\n",
      "Exactitud: 0.852 (+/-0.000) para los parámetros {'max_depth': 9, 'min_samples_leaf': 30}\n",
      "Exactitud: 0.862 (+/-0.000) para los parámetros {'max_depth': 9, 'min_samples_leaf': 40}\n",
      "Exactitud: 0.871 (+/-0.000) para los parámetros {'max_depth': 9, 'min_samples_leaf': 50}\n",
      "Exactitud: 0.875 (+/-0.000) para los parámetros {'max_depth': 10, 'min_samples_leaf': 10}\n",
      "Exactitud: 0.865 (+/-0.001) para los parámetros {'max_depth': 10, 'min_samples_leaf': 20}\n",
      "Exactitud: 0.852 (+/-0.000) para los parámetros {'max_depth': 10, 'min_samples_leaf': 30}\n",
      "Exactitud: 0.862 (+/-0.000) para los parámetros {'max_depth': 10, 'min_samples_leaf': 40}\n",
      "Exactitud: 0.871 (+/-0.000) para los parámetros {'max_depth': 10, 'min_samples_leaf': 50}\n",
      "\n",
      "Reporte de clasificación para el mejor clasificador (sobre conjunto de evaluación):\n",
      "\n",
      "              precision    recall  f1-score   support\n",
      "\n",
      "           0       0.90      0.98      0.94       313\n",
      "           1       0.77      0.41      0.54        58\n",
      "\n",
      "   micro avg       0.89      0.89      0.89       371\n",
      "   macro avg       0.84      0.70      0.74       371\n",
      "weighted avg       0.88      0.89      0.88       371\n",
      "\n",
      "\n",
      "================================================\n",
      "\n",
      "# Exploración de hiperparámetros para el criterio \"entropy\"\n",
      "\n",
      "Mejor conjunto de parámetros:\n",
      "{'max_depth': 5, 'min_samples_leaf': 10}\n",
      "\n",
      "Puntajes de la grilla:\n",
      "\n",
      "Exactitud: 0.869 (+/-0.000) para los parámetros {'max_depth': 1, 'min_samples_leaf': 10}\n",
      "Exactitud: 0.869 (+/-0.000) para los parámetros {'max_depth': 1, 'min_samples_leaf': 20}\n",
      "Exactitud: 0.869 (+/-0.000) para los parámetros {'max_depth': 1, 'min_samples_leaf': 30}\n",
      "Exactitud: 0.869 (+/-0.000) para los parámetros {'max_depth': 1, 'min_samples_leaf': 40}\n",
      "Exactitud: 0.871 (+/-0.000) para los parámetros {'max_depth': 1, 'min_samples_leaf': 50}\n",
      "Exactitud: 0.869 (+/-0.000) para los parámetros {'max_depth': 2, 'min_samples_leaf': 10}\n",
      "Exactitud: 0.869 (+/-0.000) para los parámetros {'max_depth': 2, 'min_samples_leaf': 20}\n",
      "Exactitud: 0.869 (+/-0.000) para los parámetros {'max_depth': 2, 'min_samples_leaf': 30}\n",
      "Exactitud: 0.869 (+/-0.000) para los parámetros {'max_depth': 2, 'min_samples_leaf': 40}\n",
      "Exactitud: 0.871 (+/-0.000) para los parámetros {'max_depth': 2, 'min_samples_leaf': 50}\n",
      "Exactitud: 0.877 (+/-0.000) para los parámetros {'max_depth': 3, 'min_samples_leaf': 10}\n",
      "Exactitud: 0.873 (+/-0.000) para los parámetros {'max_depth': 3, 'min_samples_leaf': 20}\n",
      "Exactitud: 0.864 (+/-0.000) para los parámetros {'max_depth': 3, 'min_samples_leaf': 30}\n",
      "Exactitud: 0.871 (+/-0.000) para los parámetros {'max_depth': 3, 'min_samples_leaf': 40}\n",
      "Exactitud: 0.871 (+/-0.000) para los parámetros {'max_depth': 3, 'min_samples_leaf': 50}\n",
      "Exactitud: 0.877 (+/-0.000) para los parámetros {'max_depth': 4, 'min_samples_leaf': 10}\n",
      "Exactitud: 0.869 (+/-0.000) para los parámetros {'max_depth': 4, 'min_samples_leaf': 20}\n",
      "Exactitud: 0.864 (+/-0.000) para los parámetros {'max_depth': 4, 'min_samples_leaf': 30}\n",
      "Exactitud: 0.871 (+/-0.000) para los parámetros {'max_depth': 4, 'min_samples_leaf': 40}\n",
      "Exactitud: 0.871 (+/-0.000) para los parámetros {'max_depth': 4, 'min_samples_leaf': 50}\n",
      "Exactitud: 0.880 (+/-0.000) para los parámetros {'max_depth': 5, 'min_samples_leaf': 10}\n",
      "Exactitud: 0.871 (+/-0.000) para los parámetros {'max_depth': 5, 'min_samples_leaf': 20}\n",
      "Exactitud: 0.864 (+/-0.000) para los parámetros {'max_depth': 5, 'min_samples_leaf': 30}\n",
      "Exactitud: 0.871 (+/-0.000) para los parámetros {'max_depth': 5, 'min_samples_leaf': 40}\n",
      "Exactitud: 0.871 (+/-0.000) para los parámetros {'max_depth': 5, 'min_samples_leaf': 50}\n",
      "Exactitud: 0.875 (+/-0.000) para los parámetros {'max_depth': 6, 'min_samples_leaf': 10}\n",
      "Exactitud: 0.866 (+/-0.000) para los parámetros {'max_depth': 6, 'min_samples_leaf': 20}\n",
      "Exactitud: 0.856 (+/-0.001) para los parámetros {'max_depth': 6, 'min_samples_leaf': 30}\n",
      "Exactitud: 0.865 (+/-0.000) para los parámetros {'max_depth': 6, 'min_samples_leaf': 40}\n",
      "Exactitud: 0.871 (+/-0.000) para los parámetros {'max_depth': 6, 'min_samples_leaf': 50}\n",
      "Exactitud: 0.877 (+/-0.000) para los parámetros {'max_depth': 7, 'min_samples_leaf': 10}\n",
      "Exactitud: 0.861 (+/-0.000) para los parámetros {'max_depth': 7, 'min_samples_leaf': 20}\n",
      "Exactitud: 0.852 (+/-0.001) para los parámetros {'max_depth': 7, 'min_samples_leaf': 30}\n",
      "Exactitud: 0.861 (+/-0.001) para los parámetros {'max_depth': 7, 'min_samples_leaf': 40}\n",
      "Exactitud: 0.871 (+/-0.000) para los parámetros {'max_depth': 7, 'min_samples_leaf': 50}\n",
      "Exactitud: 0.871 (+/-0.000) para los parámetros {'max_depth': 8, 'min_samples_leaf': 10}\n",
      "Exactitud: 0.858 (+/-0.000) para los parámetros {'max_depth': 8, 'min_samples_leaf': 20}\n",
      "Exactitud: 0.850 (+/-0.001) para los parámetros {'max_depth': 8, 'min_samples_leaf': 30}\n",
      "Exactitud: 0.861 (+/-0.001) para los parámetros {'max_depth': 8, 'min_samples_leaf': 40}\n",
      "Exactitud: 0.871 (+/-0.000) para los parámetros {'max_depth': 8, 'min_samples_leaf': 50}\n",
      "Exactitud: 0.858 (+/-0.000) para los parámetros {'max_depth': 9, 'min_samples_leaf': 10}\n",
      "Exactitud: 0.861 (+/-0.000) para los parámetros {'max_depth': 9, 'min_samples_leaf': 20}\n",
      "Exactitud: 0.850 (+/-0.001) para los parámetros {'max_depth': 9, 'min_samples_leaf': 30}\n",
      "Exactitud: 0.861 (+/-0.001) para los parámetros {'max_depth': 9, 'min_samples_leaf': 40}\n",
      "Exactitud: 0.871 (+/-0.000) para los parámetros {'max_depth': 9, 'min_samples_leaf': 50}\n",
      "Exactitud: 0.861 (+/-0.000) para los parámetros {'max_depth': 10, 'min_samples_leaf': 10}\n",
      "Exactitud: 0.858 (+/-0.000) para los parámetros {'max_depth': 10, 'min_samples_leaf': 20}\n",
      "Exactitud: 0.850 (+/-0.001) para los parámetros {'max_depth': 10, 'min_samples_leaf': 30}\n",
      "Exactitud: 0.861 (+/-0.001) para los parámetros {'max_depth': 10, 'min_samples_leaf': 40}\n",
      "Exactitud: 0.871 (+/-0.000) para los parámetros {'max_depth': 10, 'min_samples_leaf': 50}\n",
      "\n",
      "Reporte de clasificación para el mejor clasificador (sobre conjunto de evaluación):\n",
      "\n",
      "              precision    recall  f1-score   support\n",
      "\n",
      "           0       0.90      0.99      0.94       313\n",
      "           1       0.86      0.41      0.56        58\n",
      "\n",
      "   micro avg       0.90      0.90      0.90       371\n",
      "   macro avg       0.88      0.70      0.75       371\n",
      "weighted avg       0.89      0.90      0.88       371\n",
      "\n",
      "\n",
      "================================================\n",
      "\n"
     ]
    },
    {
     "data": {
      "image/png": "[encoded data removed]",
      "text/plain": [
       "<Figure size 1120x320 with 3 Axes>"
      ]
     },
     "metadata": {},
     "output_type": "display_data"
    }
   ],
   "source": [
    "plt.figure(figsize=(14, 4), dpi= 80, facecolor='w', edgecolor='k')\n",
    "\n",
    "for idx, criterion in enumerate(('gini', 'entropy'), start=1):\n",
    "    exploring_params = {\n",
    "        \n",
    "        'max_depth': [1, 2, 3, 4, 5, 6, 7, 8, 9, 10],  \n",
    "        'min_samples_leaf': [10, 20, 30, 40, 50]  \n",
    "    }\n",
    "    m = DecisionTreeClassifier(criterion=criterion)\n",
    "    model = GridSearchCV(m, exploring_params, cv=5, scoring='accuracy')\n",
    "    model.fit(X_train, y_train)\n",
    "    \n",
    "    print(\"# Exploración de hiperparámetros para el criterio \\\"%s\\\"\" % criterion, end=\"\\n\\n\")\n",
    "    \n",
    "    print(\"Mejor conjunto de parámetros:\")\n",
    "    print(model.best_params_, end=\"\\n\\n\")\n",
    "\n",
    "    print(\"Puntajes de la grilla:\", end=\"\\n\\n\")\n",
    "    means = model.cv_results_['mean_test_score']\n",
    "    stds = model.cv_results_['std_test_score']\n",
    "    for mean, std, params in zip(means, stds, model.cv_results_['params']):\n",
    "        print(\"Exactitud: %0.3f (+/-%0.03f) para los parámetros %r\" % (mean, std ** 2, params))\n",
    "    print()\n",
    "\n",
    "    print(\"Reporte de clasificación para el mejor clasificador (sobre conjunto de evaluación):\", end=\"\\n\\n\")\n",
    "    y_true, y_pred = y_test, model.predict(X_test)\n",
    "    print(classification_report(y_true, y_pred), end=\"\\n\\n\")\n",
    "    \n",
    "    print(\"================================================\", end=\"\\n\\n\")\n",
    "\n",
    "    plt.subplot(1, 2, idx)\n",
    "    plot_confusion_matrix(confusion_matrix(y_true, y_pred),\n",
    "                          classes=['class_0', 'class_1'], title=\"Matriz de confusión para %s\" % criterion)"
   ]
  }
 ],
 "metadata": {
  "kernelspec": {
   "display_name": "Python 3",
   "language": "python",
   "name": "python3"
  },
  "language_info": {
   "codemirror_mode": {
    "name": "ipython",
    "version": 3
   },
   "file_extension": ".py",
   "mimetype": "text/x-python",
   "name": "python",
   "nbconvert_exporter": "python",
   "pygments_lexer": "ipython3",
   "version": "3.7.3"
  }
 },
 "nbformat": 4,
 "nbformat_minor": 2
}
